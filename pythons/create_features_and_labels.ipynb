{
 "cells": [
  {
   "cell_type": "code",
   "execution_count": 40,
   "metadata": {
    "collapsed": true
   },
   "outputs": [],
   "source": [
    "import numpy as np\n",
    "import psycopg2\n",
    "from config import db_config"
   ]
  },
  {
   "cell_type": "code",
   "execution_count": 41,
   "metadata": {},
   "outputs": [
    {
     "name": "stdout",
     "output_type": "stream",
     "text": [
      "connected!\n"
     ]
    }
   ],
   "source": [
    "try:\n",
    "    conn = psycopg2.connect(db_config)\n",
    "    print(\"connected!\")\n",
    "except:\n",
    "    print(\"I am unable to connect to the database\")\n",
    "\n",
    "cur = conn.cursor()"
   ]
  },
  {
   "cell_type": "code",
   "execution_count": 42,
   "metadata": {
    "collapsed": true
   },
   "outputs": [],
   "source": [
    "def convert_string_to_np_array(stringified_array):\n",
    "    return np.fromstring(stringified_array[1:-1], dtype=float, sep=', ')"
   ]
  },
  {
   "cell_type": "code",
   "execution_count": 50,
   "metadata": {
    "collapsed": true
   },
   "outputs": [],
   "source": [
    "def create_features_and_labels(query):\n",
    "    cur.execute(query)\n",
    "    rows = cur.fetchall()\n",
    "\n",
    "    features = np.array([])\n",
    "    labels = np.array([])\n",
    "\n",
    "    print(\"rows fetched...\")\n",
    "    for row in rows:\n",
    "        sample_features = convert_string_to_np_array(row[1])\n",
    "        sample_label = convert_string_to_np_array(row[2])\n",
    "\n",
    "        features = np.append(features, sample_features)\n",
    "        features = np.reshape(features, (-1, 784))\n",
    "        \n",
    "        labels = np.append(labels, sample_label)\n",
    "        labels = np.reshape(labels, (-1, 10))\n",
    "    \n",
    "    return features, labels"
   ]
  },
  {
   "cell_type": "code",
   "execution_count": 51,
   "metadata": {
    "collapsed": true
   },
   "outputs": [],
   "source": [
    "# features, labels = create_features_and_labels(\"SELECT * from images\")"
   ]
  }
 ],
 "metadata": {
  "kernelspec": {
   "display_name": "Python 3",
   "language": "python",
   "name": "python3"
  },
  "language_info": {
   "codemirror_mode": {
    "name": "ipython",
    "version": 3
   },
   "file_extension": ".py",
   "mimetype": "text/x-python",
   "name": "python",
   "nbconvert_exporter": "python",
   "pygments_lexer": "ipython3",
   "version": "3.5.2"
  }
 },
 "nbformat": 4,
 "nbformat_minor": 2
}
