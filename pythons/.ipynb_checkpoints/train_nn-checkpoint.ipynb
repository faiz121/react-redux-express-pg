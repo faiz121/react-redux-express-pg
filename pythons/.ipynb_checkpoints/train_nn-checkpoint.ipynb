{
 "cells": [
  {
   "cell_type": "code",
   "execution_count": 6,
   "metadata": {
    "collapsed": true
   },
   "outputs": [],
   "source": [
    "import numpy as np\n",
    "import tensorflow as tf\n",
    "from create_features_and_labels import create_features_and_labels"
   ]
  },
  {
   "cell_type": "code",
   "execution_count": 7,
   "metadata": {
    "collapsed": true
   },
   "outputs": [],
   "source": [
    "N_NODES_HL1 = 500\n",
    "N_NODES_HL2 = 500\n",
    "N_NODES_HL3 = 500\n",
    "\n",
    "N_CLASSES = 10\n",
    "BATCH_SIZE = 100\n",
    "HM_EPOCHS = 10\n",
    "\n",
    "x = tf.placeholder('float', [None, 784])\n",
    "y = tf.placeholder('float')\n",
    "\n",
    "hidden_1_layer = {\n",
    "    'f_fum': N_NODES_HL1,\n",
    "    'weights': tf.Variable(tf.random_normal([784, N_NODES_HL1])),\n",
    "    'biases': tf.Variable(tf.random_normal([N_NODES_HL1]))\n",
    "}\n",
    "\n",
    "hidden_2_layer = {\n",
    "    'f_fum': N_NODES_HL2,\n",
    "    'weights': tf.Variable(tf.random_normal([N_NODES_HL1, N_NODES_HL2])),\n",
    "    'biases': tf.Variable(tf.random_normal([N_NODES_HL2]))\n",
    "}\n",
    "\n",
    "hidden_3_layer = {\n",
    "    'f_fum': N_NODES_HL3,\n",
    "    'weights': tf.Variable(tf.random_normal([N_NODES_HL2, N_NODES_HL3])),\n",
    "    'biases': tf.Variable(tf.random_normal([N_NODES_HL3]))\n",
    "}\n",
    "\n",
    "output_layer = {\n",
    "    'f_fum':None,\n",
    "    'weights':tf.Variable(tf.random_normal([N_NODES_HL3, N_CLASSES])),\n",
    "    'biases':tf.Variable(tf.random_normal([N_CLASSES]))\n",
    "}\n",
    "\n",
    "# saves the variables for checkpoints\n",
    "saver = tf.train.Saver();"
   ]
  },
  {
   "cell_type": "code",
   "execution_count": 8,
   "metadata": {
    "collapsed": true
   },
   "outputs": [],
   "source": [
    "def create_nnet_model(data):\n",
    "\n",
    "    l1 = tf.add(tf.matmul(data, hidden_1_layer['weights']), hidden_1_layer['biases'])\n",
    "    l1 = tf.nn.relu(l1)\n",
    "\n",
    "    l2 = tf.add(tf.matmul(l1, hidden_2_layer['weights']), hidden_2_layer['biases'])\n",
    "    l2 = tf.nn.relu(l2)\n",
    "\n",
    "    l3 = tf.add(tf.matmul(l2, hidden_3_layer['weights']), hidden_3_layer['biases'])\n",
    "    l3 = tf.nn.relu(l3)\n",
    "\n",
    "    output = tf.matmul(l3, output_layer['weights']) + output_layer['biases']\n",
    "\n",
    "    return output"
   ]
  },
  {
   "cell_type": "code",
   "execution_count": 9,
   "metadata": {
    "collapsed": true
   },
   "outputs": [],
   "source": [
    "def train_neural_network(x):\n",
    "    prediction = create_nnet_model(x)\n",
    "    print(\"starting selection\")\n",
    "    train_x, train_y = create_features_and_labels(\"SELECT TOP 1000 from images\")\n",
    "    test_x, test_y = create_features_and_labels(\"SELECT TOP 10 from images\")\n",
    "    print(\"finished selection\")\n",
    "\n",
    "    cost = tf.reduce_mean( tf.nn.softmax_cross_entropy_with_logits(logits=prediction, labels=y) )\n",
    "    optimizer = tf.train.AdamOptimizer(learning_rate=0.001).minimize(cost)\n",
    "\n",
    "    with tf.Session() as sess:\n",
    "        sess.run(tf.initialize_all_variables())\n",
    "\n",
    "        for epoch in range(HM_EPOCHS):\n",
    "            epoch_loss = 0\n",
    "            i=0\n",
    "            while i < len(train_x):\n",
    "                print(i)\n",
    "                start = i\n",
    "                end = i+BATCH_SIZE\n",
    "                batch_x = np.array(train_x[start:end])\n",
    "                batch_y = np.array(train_y[start:end])\n",
    "\n",
    "                _, c = sess.run([optimizer, cost], feed_dict={x: batch_x,\n",
    "                                                              y: batch_y})\n",
    "                epoch_loss += c\n",
    "                i+=BATCH_SIZE\n",
    "\n",
    "            saver.save(sess, \"./tmp/model.ckpt\")\n",
    "            print('Epoch', epoch + 1, 'completed out of', HM_EPOCHS, 'loss:', epoch_loss)\n",
    "        correct = tf.equal(tf.argmax(prediction, 1), tf.argmax(y, 1))\n",
    "        accuracy = tf.reduce_mean(tf.cast(correct, 'float'))\n",
    "\n",
    "        print('Accuracy:',accuracy.eval({x:test_x, y:test_y}))"
   ]
  },
  {
   "cell_type": "code",
   "execution_count": null,
   "metadata": {
    "collapsed": true
   },
   "outputs": [],
   "source": [
    "train_neural_network(x)"
   ]
  },
  {
   "cell_type": "code",
   "execution_count": null,
   "metadata": {
    "collapsed": true
   },
   "outputs": [],
   "source": []
  }
 ],
 "metadata": {
  "kernelspec": {
   "display_name": "Python 3",
   "language": "python",
   "name": "python3"
  }
 },
 "nbformat": 4,
 "nbformat_minor": 2
}
